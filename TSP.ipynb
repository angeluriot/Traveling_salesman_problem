{
 "cells": [
  {
   "attachments": {},
   "cell_type": "markdown",
   "metadata": {},
   "source": [
    "# Travelling salesman problem\n",
    "### Group 3\n",
    "Angel URIOT\n",
    "Arthur AZAMBRE"
   ]
  },
  {
   "attachments": {},
   "cell_type": "markdown",
   "metadata": {},
   "source": [
    "### Imports"
   ]
  },
  {
   "cell_type": "code",
   "execution_count": 1,
   "metadata": {},
   "outputs": [],
   "source": [
    "import cplex\n",
    "import random\n",
    "import time\n",
    "import numpy as np\n",
    "import matplotlib.pyplot as plt"
   ]
  },
  {
   "attachments": {},
   "cell_type": "markdown",
   "metadata": {},
   "source": [
    "### Settings"
   ]
  },
  {
   "cell_type": "code",
   "execution_count": 2,
   "metadata": {},
   "outputs": [],
   "source": [
    "NB_CITIES = 20"
   ]
  },
  {
   "attachments": {},
   "cell_type": "markdown",
   "metadata": {},
   "source": [
    "### Cities"
   ]
  },
  {
   "cell_type": "code",
   "execution_count": 3,
   "metadata": {},
   "outputs": [],
   "source": [
    "cities = np.random.uniform(0., 1., (NB_CITIES, 2))"
   ]
  },
  {
   "cell_type": "code",
   "execution_count": 4,
   "metadata": {},
   "outputs": [],
   "source": [
    "def plot(cities, path = None):\n",
    "\n",
    "\tcities = np.array(cities)\n",
    "\n",
    "\t# Plot the paths\n",
    "\tif path is None:\n",
    "\t\tfor i in range(NB_CITIES - 1):\n",
    "\t\t\tplt.plot(cities[[i, i + 1], 0], cities[[i, i + 1], 1], color = 'red')\n",
    "\n",
    "\telse:\n",
    "\t\tpath = np.array(path)\n",
    "\t\tfor p in path:\n",
    "\t\t\tplt.plot(p[:, 0], p[:, 1], color = 'red')\n",
    "\n",
    "\t# Plot the cities\n",
    "\tplt.plot(cities[:, 0], cities[:, 1], 'o', color = 'black')\n",
    "\n",
    "\t# Axis\n",
    "\tplt.xlim(-0.01, 1.01)\n",
    "\tplt.ylim(-0.01, 1.01)\n",
    "\tplt.gca().set_aspect('equal', adjustable = 'box')\n",
    "\tplt.axis('off')\n",
    "\n",
    "\t# Show\n",
    "\tplt.show()"
   ]
  },
  {
   "cell_type": "code",
   "execution_count": 5,
   "metadata": {},
   "outputs": [
    {
     "data": {
      "image/png": "[encoded data removed]",
      "text/plain": [
       "<Figure size 640x480 with 1 Axes>"
      ]
     },
     "metadata": {},
     "output_type": "display_data"
    }
   ],
   "source": [
    "plot(cities)"
   ]
  },
  {
   "attachments": {},
   "cell_type": "markdown",
   "metadata": {},
   "source": [
    "### Model"
   ]
  },
  {
   "attachments": {},
   "cell_type": "markdown",
   "metadata": {},
   "source": [
    "Create the variables"
   ]
  },
  {
   "cell_type": "code",
   "execution_count": 6,
   "metadata": {},
   "outputs": [],
   "source": [
    "# The cost of each arc\n",
    "cost = []\n",
    "\n",
    "for i in range(NB_CITIES):\n",
    "\tfor j in range(NB_CITIES):\n",
    "\t\tcost.append(np.linalg.norm(cities[i] - cities[j]))\n",
    "\n",
    "cost = np.array(cost)"
   ]
  },
  {
   "attachments": {},
   "cell_type": "markdown",
   "metadata": {},
   "source": [
    "Create the model"
   ]
  },
  {
   "cell_type": "code",
   "execution_count": 7,
   "metadata": {},
   "outputs": [],
   "source": [
    "model = cplex.Cplex()"
   ]
  },
  {
   "attachments": {},
   "cell_type": "markdown",
   "metadata": {},
   "source": [
    "Objective function"
   ]
  },
  {
   "cell_type": "code",
   "execution_count": 8,
   "metadata": {},
   "outputs": [],
   "source": [
    "model.objective.set_sense(model.objective.sense.minimize)"
   ]
  },
  {
   "attachments": {},
   "cell_type": "markdown",
   "metadata": {},
   "source": [
    "Variables"
   ]
  },
  {
   "cell_type": "code",
   "execution_count": 9,
   "metadata": {},
   "outputs": [
    {
     "data": {
      "text/plain": [
       "range(0, 400)"
      ]
     },
     "execution_count": 9,
     "metadata": {},
     "output_type": "execute_result"
    }
   ],
   "source": [
    "model.variables.add(\n",
    "\tnames = [\"x_\" + str(i) + \"_\" + str(j) for j in range(NB_CITIES) for i in range(NB_CITIES)],\n",
    "\tobj = [cost[i] for i in range(NB_CITIES ** 2)],\n",
    "\tlb = [0] * (NB_CITIES ** 2),\n",
    "\tub = [1] * (NB_CITIES ** 2),\n",
    "\ttypes = [\"B\"] * (NB_CITIES ** 2)\n",
    ")\n",
    "\n",
    "model.variables.add(\n",
    "\tnames = [\"u_\" + str(i) for i in range(NB_CITIES)],\n",
    "\tobj = [0] * NB_CITIES,\n",
    "\tlb = [0] * NB_CITIES,\n",
    "\tub = [cplex.infinity] * NB_CITIES,\n",
    "\ttypes = [\"C\"] * NB_CITIES\n",
    ")"
   ]
  },
  {
   "attachments": {},
   "cell_type": "markdown",
   "metadata": {},
   "source": [
    "Constraints"
   ]
  },
  {
   "cell_type": "code",
   "execution_count": 10,
   "metadata": {},
   "outputs": [],
   "source": [
    "# 1a\n",
    "for i in range(NB_CITIES):\n",
    "\n",
    "\ttemp = []\n",
    "\n",
    "\tfor j in range(NB_CITIES):\n",
    "\t\tif i != j:\n",
    "\t\t\ttemp.append(\"x_\" + str(i) + \"_\" + str(j))\n",
    "\n",
    "\tmodel.linear_constraints.add(lin_expr = [[temp, [1] * len(temp)]], senses = [\"E\"], rhs = [1])"
   ]
  },
  {
   "cell_type": "code",
   "execution_count": 11,
   "metadata": {},
   "outputs": [],
   "source": [
    "# 1b\n",
    "for j in range(NB_CITIES):\n",
    "\n",
    "\ttemp = []\n",
    "\n",
    "\tfor i in range(NB_CITIES):\n",
    "\t\tif i != j:\n",
    "\t\t\ttemp.append(\"x_\" + str(i) + \"_\" + str(j))\n",
    "\n",
    "\tmodel.linear_constraints.add(lin_expr = [[temp, [1] * len(temp)]], senses = [\"E\"], rhs = [1])"
   ]
  },
  {
   "cell_type": "code",
   "execution_count": 12,
   "metadata": {},
   "outputs": [],
   "source": [
    "'''\n",
    "# 1c\n",
    "# ui + xij <= uj + (NB_CITIES - 1) * (1 - xij)\n",
    "# 2 <= j <= NB_CITIES\n",
    "\n",
    "for i in range(NB_CITIES):\n",
    "\tfor j in range(1, NB_CITIES):\n",
    "\t\tmodel.linear_constraints.add(\n",
    "\t\t\tlin_expr = [[[\"u_\" + str(i), \"x_\" + str(i) + \"_\" + str(j)], [1, 1]], [[\"u_\" + str(j), \"x_\" + str(i) + \"_\" + str(j)], [1, -NB_CITIES + 1]]],\n",
    "\t\t\tsenses = [\"L\", \"L\"],\n",
    "\t\t\trhs = [0, 0]\n",
    "\t\t)\n",
    "'''"
   ]
  },
  {
   "attachments": {},
   "cell_type": "markdown",
   "metadata": {},
   "source": [
    "Solve"
   ]
  },
  {
   "cell_type": "code",
   "execution_count": 13,
   "metadata": {},
   "outputs": [
    {
     "name": "stdout",
     "output_type": "stream",
     "text": [
      "Version identifier: 22.1.0.0 | 2022-03-25 | 54982fbec\n",
      "CPXPARAM_Read_DataCheck                          1\n",
      "Found incumbent of value 8.536732 after 0.00 sec. (0.04 ticks)\n",
      "Tried aggregator 1 time.\n",
      "MIP Presolve eliminated 380 rows and 20 columns.\n",
      "Reduced MIP has 40 rows, 380 columns, and 760 nonzeros.\n",
      "Reduced MIP has 380 binaries, 0 generals, 0 SOSs, and 0 indicators.\n",
      "Presolve time = 0.00 sec. (0.59 ticks)\n",
      "Probing time = 0.00 sec. (0.70 ticks)\n",
      "Tried aggregator 1 time.\n",
      "Detecting symmetries...\n",
      "Reduced MIP has 40 rows, 380 columns, and 760 nonzeros.\n",
      "Reduced MIP has 380 binaries, 0 generals, 0 SOSs, and 0 indicators.\n",
      "Presolve time = 0.00 sec. (0.59 ticks)\n",
      "Probing time = 0.00 sec. (0.70 ticks)\n",
      "Clique table members: 40.\n",
      "MIP emphasis: balance optimality and feasibility.\n",
      "MIP search method: dynamic search.\n",
      "Parallel mode: deterministic, using up to 16 threads.\n",
      "Root relaxation solution time = 0.00 sec. (0.19 ticks)\n",
      "\n",
      "        Nodes                                         Cuts/\n",
      "   Node  Left     Objective  IInf  Best Integer    Best Bound    ItCnt     Gap\n",
      "\n",
      "*     0+    0                            8.5367        0.0000           100.00%\n",
      "*     0+    0                            3.6176        0.0000           100.00%\n",
      "*     0+    0                            3.3485        0.0000           100.00%\n",
      "*     0+    0                            3.0933        0.0000           100.00%\n",
      "*     0+    0                            2.8936        0.0000           100.00%\n",
      "*     0+    0                            2.8411        0.0000           100.00%\n",
      "*     0     0      integral     0        2.6097        2.6097       12    0.00%\n",
      "Elapsed time = 0.03 sec. (3.43 ticks, tree = 0.00 MB, solutions = 7)\n",
      "\n",
      "Root node processing (before b&c):\n",
      "  Real time             =    0.03 sec. (3.46 ticks)\n",
      "Parallel b&c, 16 threads:\n",
      "  Real time             =    0.00 sec. (0.00 ticks)\n",
      "  Sync time (average)   =    0.00 sec.\n",
      "  Wait time (average)   =    0.00 sec.\n",
      "                          ------------\n",
      "Total (root+branch&cut) =    0.03 sec. (3.46 ticks)\n"
     ]
    }
   ],
   "source": [
    "model.solve()"
   ]
  },
  {
   "attachments": {},
   "cell_type": "markdown",
   "metadata": {},
   "source": [
    "Results"
   ]
  },
  {
   "cell_type": "code",
   "execution_count": 14,
   "metadata": {},
   "outputs": [
    {
     "name": "stdout",
     "output_type": "stream",
     "text": [
      "\n",
      "Objective value = 2.6097245513857104\n"
     ]
    },
    {
     "data": {
      "image/png": "[encoded data removed]",
      "text/plain": [
       "<Figure size 640x480 with 1 Axes>"
      ]
     },
     "metadata": {},
     "output_type": "display_data"
    }
   ],
   "source": [
    "result = model.solution.get_values()\n",
    "\n",
    "print(\"\\nObjective value =\", model.solution.get_objective_value())\n",
    "\n",
    "paths = []\n",
    "\n",
    "for i in range(NB_CITIES):\n",
    "\tfor j in range(NB_CITIES):\n",
    "\t\tif result[i * NB_CITIES + j] == 1:\n",
    "\t\t\tpaths.append([cities[i], cities[j]])\n",
    "\n",
    "plot(cities, paths)"
   ]
  }
 ],
 "metadata": {
  "kernelspec": {
   "display_name": "venv",
   "language": "python",
   "name": "python3"
  },
  "language_info": {
   "codemirror_mode": {
    "name": "ipython",
    "version": 3
   },
   "file_extension": ".py",
   "mimetype": "text/x-python",
   "name": "python",
   "nbconvert_exporter": "python",
   "pygments_lexer": "ipython3",
   "version": "3.10.0"
  },
  "orig_nbformat": 4,
  "vscode": {
   "interpreter": {
    "hash": "7f3335990453b17cae3d09f1e70679d249117c9ab350e5cc44349710015b13c3"
   }
  }
 },
 "nbformat": 4,
 "nbformat_minor": 2
}
